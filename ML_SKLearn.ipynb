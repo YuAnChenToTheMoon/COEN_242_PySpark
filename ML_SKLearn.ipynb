{
  "cells": [
    {
      "cell_type": "code",
      "execution_count": 1,
      "metadata": {
        "id": "uploN17hVEfG"
      },
      "outputs": [],
      "source": [
        "import numpy as np\n",
        "import pandas as pd\n",
        "from sklearn.model_selection import train_test_split\n",
        "from sklearn.linear_model import LogisticRegression\n",
        "from sklearn.ensemble import RandomForestClassifier\n",
        "from sklearn.metrics import accuracy_score\n",
        "import time"
      ]
    },
    {
      "cell_type": "markdown",
      "metadata": {
        "id": "QlTfL5pMWnRf"
      },
      "source": [
        "**Loading the dataset from json to DataFrame**"
      ]
    },
    {
      "cell_type": "code",
      "execution_count": 3,
      "metadata": {
        "colab": {
          "base_uri": "https://localhost:8080/"
        },
        "id": "nlF2TPkRWyG5",
        "outputId": "10949078-0b41-452c-a2ab-c119a9df9250"
      },
      "outputs": [
        {
          "output_type": "stream",
          "name": "stdout",
          "text": [
            "Time required to parse data : 75.697185991\n"
          ]
        }
      ],
      "source": [
        "df = pd.read_json(\"transactions.txt\", lines=True)\n",
        "print(\"Time required to parse data :\",time.process_time())"
      ]
    },
    {
      "cell_type": "markdown",
      "metadata": {
        "id": "YmHZCx1ldJxM"
      },
      "source": [
        "**Looking at Information on Dataset**"
      ]
    },
    {
      "cell_type": "code",
      "execution_count": 4,
      "metadata": {
        "colab": {
          "base_uri": "https://localhost:8080/"
        },
        "id": "ix7kAjnVanfo",
        "outputId": "ff4b6fe1-ce68-4005-e064-1504bf8b890e"
      },
      "outputs": [
        {
          "output_type": "stream",
          "name": "stdout",
          "text": [
            "<class 'pandas.core.frame.DataFrame'>\n",
            "RangeIndex: 786363 entries, 0 to 786362\n",
            "Data columns (total 29 columns):\n",
            " #   Column                    Non-Null Count   Dtype  \n",
            "---  ------                    --------------   -----  \n",
            " 0   accountNumber             786363 non-null  int64  \n",
            " 1   customerId                786363 non-null  int64  \n",
            " 2   creditLimit               786363 non-null  int64  \n",
            " 3   availableMoney            786363 non-null  float64\n",
            " 4   transactionDateTime       786363 non-null  object \n",
            " 5   transactionAmount         786363 non-null  float64\n",
            " 6   merchantName              786363 non-null  object \n",
            " 7   acqCountry                786363 non-null  object \n",
            " 8   merchantCountryCode       786363 non-null  object \n",
            " 9   posEntryMode              786363 non-null  object \n",
            " 10  posConditionCode          786363 non-null  object \n",
            " 11  merchantCategoryCode      786363 non-null  object \n",
            " 12  currentExpDate            786363 non-null  object \n",
            " 13  accountOpenDate           786363 non-null  object \n",
            " 14  dateOfLastAddressChange   786363 non-null  object \n",
            " 15  cardCVV                   786363 non-null  int64  \n",
            " 16  enteredCVV                786363 non-null  int64  \n",
            " 17  cardLast4Digits           786363 non-null  int64  \n",
            " 18  transactionType           786363 non-null  object \n",
            " 19  echoBuffer                786363 non-null  object \n",
            " 20  currentBalance            786363 non-null  float64\n",
            " 21  merchantCity              786363 non-null  object \n",
            " 22  merchantState             786363 non-null  object \n",
            " 23  merchantZip               786363 non-null  object \n",
            " 24  cardPresent               786363 non-null  bool   \n",
            " 25  posOnPremises             786363 non-null  object \n",
            " 26  recurringAuthInd          786363 non-null  object \n",
            " 27  expirationDateKeyInMatch  786363 non-null  bool   \n",
            " 28  isFraud                   786363 non-null  bool   \n",
            "dtypes: bool(3), float64(3), int64(6), object(17)\n",
            "memory usage: 158.2+ MB\n"
          ]
        }
      ],
      "source": [
        "df.info()"
      ]
    },
    {
      "cell_type": "markdown",
      "metadata": {
        "id": "wbGrbLmJe96X"
      },
      "source": [
        "**Checking for Number of Invalid transaction and Valid transactions**\n",
        "\n",
        "*   Here we are checking for number of fraud transactions and Valid transactions.\n",
        "*  Here we have 2 target variables :\n",
        "    1.   0 is Valid Transaction\n",
        "    2.   1 is Fraud Transaction\n",
        "\n",
        "*   More than 98% of the data is inclined towards 1 class (Valid Transactions), and rest 2% percent is inclined towards other.\n",
        "\n",
        "*   We cannot use this data to as input to our Machine learning model as we have very less data points for the second case.\n",
        "\n"
      ]
    },
    {
      "cell_type": "code",
      "execution_count": 5,
      "metadata": {
        "colab": {
          "base_uri": "https://localhost:8080/"
        },
        "id": "e5Tcbx8ddc_j",
        "outputId": "137ed3bd-1a0a-4597-f3ed-cde15d12b7d9"
      },
      "outputs": [
        {
          "output_type": "execute_result",
          "data": {
            "text/plain": [
              "False    773946\n",
              "True      12417\n",
              "Name: isFraud, dtype: int64"
            ]
          },
          "metadata": {},
          "execution_count": 5
        }
      ],
      "source": [
        "#counting the value\n",
        "df['isFraud'].value_counts()"
      ]
    },
    {
      "cell_type": "markdown",
      "metadata": {
        "id": "gAQ-3JhdKGah"
      },
      "source": [
        "**Dropping unnecessary columns** "
      ]
    },
    {
      "cell_type": "code",
      "execution_count": 6,
      "metadata": {
        "id": "-RtWlFwrKi7H"
      },
      "outputs": [],
      "source": [
        "df.drop([\"posEntryMode\",\"posConditionCode\",\"transactionDateTime\",\"acqCountry\",\"merchantCountryCode\",\"merchantName\",\"merchantCategoryCode\",\"currentExpDate\",\"accountOpenDate\",\"dateOfLastAddressChange\",\"transactionType\",\"merchantCity\",\"merchantState\",\"merchantZip\",\"posOnPremises\",\"recurringAuthInd\",\"echoBuffer\"], axis = 1, inplace = True)"
      ]
    },
    {
      "cell_type": "code",
      "execution_count": 7,
      "metadata": {
        "colab": {
          "base_uri": "https://localhost:8080/",
          "height": 270
        },
        "id": "Zd1sxq-ILKac",
        "outputId": "6e6cb8f4-e18d-40f6-be27-6aafe0c9f3f9"
      },
      "outputs": [
        {
          "output_type": "execute_result",
          "data": {
            "text/plain": [
              "   accountNumber  customerId  creditLimit  availableMoney  transactionAmount  \\\n",
              "0      737265056   737265056         5000          5000.0              98.55   \n",
              "1      737265056   737265056         5000          5000.0              74.51   \n",
              "2      737265056   737265056         5000          5000.0               7.47   \n",
              "3      737265056   737265056         5000          5000.0               7.47   \n",
              "4      830329091   830329091         5000          5000.0              71.18   \n",
              "\n",
              "   cardCVV  enteredCVV  cardLast4Digits  currentBalance  cardPresent  \\\n",
              "0      414         414             1803             0.0        False   \n",
              "1      486         486              767             0.0         True   \n",
              "2      486         486              767             0.0        False   \n",
              "3      486         486              767             0.0        False   \n",
              "4      885         885             3143             0.0         True   \n",
              "\n",
              "   expirationDateKeyInMatch  isFraud  \n",
              "0                     False    False  \n",
              "1                     False    False  \n",
              "2                     False    False  \n",
              "3                     False    False  \n",
              "4                     False    False  "
            ],
            "text/html": [
              "\n",
              "  <div id=\"df-e01ddbb6-2278-4ab0-8d0d-0f113e2983c4\">\n",
              "    <div class=\"colab-df-container\">\n",
              "      <div>\n",
              "<style scoped>\n",
              "    .dataframe tbody tr th:only-of-type {\n",
              "        vertical-align: middle;\n",
              "    }\n",
              "\n",
              "    .dataframe tbody tr th {\n",
              "        vertical-align: top;\n",
              "    }\n",
              "\n",
              "    .dataframe thead th {\n",
              "        text-align: right;\n",
              "    }\n",
              "</style>\n",
              "<table border=\"1\" class=\"dataframe\">\n",
              "  <thead>\n",
              "    <tr style=\"text-align: right;\">\n",
              "      <th></th>\n",
              "      <th>accountNumber</th>\n",
              "      <th>customerId</th>\n",
              "      <th>creditLimit</th>\n",
              "      <th>availableMoney</th>\n",
              "      <th>transactionAmount</th>\n",
              "      <th>cardCVV</th>\n",
              "      <th>enteredCVV</th>\n",
              "      <th>cardLast4Digits</th>\n",
              "      <th>currentBalance</th>\n",
              "      <th>cardPresent</th>\n",
              "      <th>expirationDateKeyInMatch</th>\n",
              "      <th>isFraud</th>\n",
              "    </tr>\n",
              "  </thead>\n",
              "  <tbody>\n",
              "    <tr>\n",
              "      <th>0</th>\n",
              "      <td>737265056</td>\n",
              "      <td>737265056</td>\n",
              "      <td>5000</td>\n",
              "      <td>5000.0</td>\n",
              "      <td>98.55</td>\n",
              "      <td>414</td>\n",
              "      <td>414</td>\n",
              "      <td>1803</td>\n",
              "      <td>0.0</td>\n",
              "      <td>False</td>\n",
              "      <td>False</td>\n",
              "      <td>False</td>\n",
              "    </tr>\n",
              "    <tr>\n",
              "      <th>1</th>\n",
              "      <td>737265056</td>\n",
              "      <td>737265056</td>\n",
              "      <td>5000</td>\n",
              "      <td>5000.0</td>\n",
              "      <td>74.51</td>\n",
              "      <td>486</td>\n",
              "      <td>486</td>\n",
              "      <td>767</td>\n",
              "      <td>0.0</td>\n",
              "      <td>True</td>\n",
              "      <td>False</td>\n",
              "      <td>False</td>\n",
              "    </tr>\n",
              "    <tr>\n",
              "      <th>2</th>\n",
              "      <td>737265056</td>\n",
              "      <td>737265056</td>\n",
              "      <td>5000</td>\n",
              "      <td>5000.0</td>\n",
              "      <td>7.47</td>\n",
              "      <td>486</td>\n",
              "      <td>486</td>\n",
              "      <td>767</td>\n",
              "      <td>0.0</td>\n",
              "      <td>False</td>\n",
              "      <td>False</td>\n",
              "      <td>False</td>\n",
              "    </tr>\n",
              "    <tr>\n",
              "      <th>3</th>\n",
              "      <td>737265056</td>\n",
              "      <td>737265056</td>\n",
              "      <td>5000</td>\n",
              "      <td>5000.0</td>\n",
              "      <td>7.47</td>\n",
              "      <td>486</td>\n",
              "      <td>486</td>\n",
              "      <td>767</td>\n",
              "      <td>0.0</td>\n",
              "      <td>False</td>\n",
              "      <td>False</td>\n",
              "      <td>False</td>\n",
              "    </tr>\n",
              "    <tr>\n",
              "      <th>4</th>\n",
              "      <td>830329091</td>\n",
              "      <td>830329091</td>\n",
              "      <td>5000</td>\n",
              "      <td>5000.0</td>\n",
              "      <td>71.18</td>\n",
              "      <td>885</td>\n",
              "      <td>885</td>\n",
              "      <td>3143</td>\n",
              "      <td>0.0</td>\n",
              "      <td>True</td>\n",
              "      <td>False</td>\n",
              "      <td>False</td>\n",
              "    </tr>\n",
              "  </tbody>\n",
              "</table>\n",
              "</div>\n",
              "      <button class=\"colab-df-convert\" onclick=\"convertToInteractive('df-e01ddbb6-2278-4ab0-8d0d-0f113e2983c4')\"\n",
              "              title=\"Convert this dataframe to an interactive table.\"\n",
              "              style=\"display:none;\">\n",
              "        \n",
              "  <svg xmlns=\"http://www.w3.org/2000/svg\" height=\"24px\"viewBox=\"0 0 24 24\"\n",
              "       width=\"24px\">\n",
              "    <path d=\"M0 0h24v24H0V0z\" fill=\"none\"/>\n",
              "    <path d=\"M18.56 5.44l.94 2.06.94-2.06 2.06-.94-2.06-.94-.94-2.06-.94 2.06-2.06.94zm-11 1L8.5 8.5l.94-2.06 2.06-.94-2.06-.94L8.5 2.5l-.94 2.06-2.06.94zm10 10l.94 2.06.94-2.06 2.06-.94-2.06-.94-.94-2.06-.94 2.06-2.06.94z\"/><path d=\"M17.41 7.96l-1.37-1.37c-.4-.4-.92-.59-1.43-.59-.52 0-1.04.2-1.43.59L10.3 9.45l-7.72 7.72c-.78.78-.78 2.05 0 2.83L4 21.41c.39.39.9.59 1.41.59.51 0 1.02-.2 1.41-.59l7.78-7.78 2.81-2.81c.8-.78.8-2.07 0-2.86zM5.41 20L4 18.59l7.72-7.72 1.47 1.35L5.41 20z\"/>\n",
              "  </svg>\n",
              "      </button>\n",
              "      \n",
              "  <style>\n",
              "    .colab-df-container {\n",
              "      display:flex;\n",
              "      flex-wrap:wrap;\n",
              "      gap: 12px;\n",
              "    }\n",
              "\n",
              "    .colab-df-convert {\n",
              "      background-color: #E8F0FE;\n",
              "      border: none;\n",
              "      border-radius: 50%;\n",
              "      cursor: pointer;\n",
              "      display: none;\n",
              "      fill: #1967D2;\n",
              "      height: 32px;\n",
              "      padding: 0 0 0 0;\n",
              "      width: 32px;\n",
              "    }\n",
              "\n",
              "    .colab-df-convert:hover {\n",
              "      background-color: #E2EBFA;\n",
              "      box-shadow: 0px 1px 2px rgba(60, 64, 67, 0.3), 0px 1px 3px 1px rgba(60, 64, 67, 0.15);\n",
              "      fill: #174EA6;\n",
              "    }\n",
              "\n",
              "    [theme=dark] .colab-df-convert {\n",
              "      background-color: #3B4455;\n",
              "      fill: #D2E3FC;\n",
              "    }\n",
              "\n",
              "    [theme=dark] .colab-df-convert:hover {\n",
              "      background-color: #434B5C;\n",
              "      box-shadow: 0px 1px 3px 1px rgba(0, 0, 0, 0.15);\n",
              "      filter: drop-shadow(0px 1px 2px rgba(0, 0, 0, 0.3));\n",
              "      fill: #FFFFFF;\n",
              "    }\n",
              "  </style>\n",
              "\n",
              "      <script>\n",
              "        const buttonEl =\n",
              "          document.querySelector('#df-e01ddbb6-2278-4ab0-8d0d-0f113e2983c4 button.colab-df-convert');\n",
              "        buttonEl.style.display =\n",
              "          google.colab.kernel.accessAllowed ? 'block' : 'none';\n",
              "\n",
              "        async function convertToInteractive(key) {\n",
              "          const element = document.querySelector('#df-e01ddbb6-2278-4ab0-8d0d-0f113e2983c4');\n",
              "          const dataTable =\n",
              "            await google.colab.kernel.invokeFunction('convertToInteractive',\n",
              "                                                     [key], {});\n",
              "          if (!dataTable) return;\n",
              "\n",
              "          const docLinkHtml = 'Like what you see? Visit the ' +\n",
              "            '<a target=\"_blank\" href=https://colab.research.google.com/notebooks/data_table.ipynb>data table notebook</a>'\n",
              "            + ' to learn more about interactive tables.';\n",
              "          element.innerHTML = '';\n",
              "          dataTable['output_type'] = 'display_data';\n",
              "          await google.colab.output.renderOutput(dataTable, element);\n",
              "          const docLink = document.createElement('div');\n",
              "          docLink.innerHTML = docLinkHtml;\n",
              "          element.appendChild(docLink);\n",
              "        }\n",
              "      </script>\n",
              "    </div>\n",
              "  </div>\n",
              "  "
            ]
          },
          "metadata": {},
          "execution_count": 7
        }
      ],
      "source": [
        "df.head()"
      ]
    },
    {
      "cell_type": "markdown",
      "metadata": {
        "id": "nX69MmIySs7v"
      },
      "source": [
        "**Convert Boolean columns to Numeric ones**"
      ]
    },
    {
      "cell_type": "code",
      "execution_count": 8,
      "metadata": {
        "colab": {
          "base_uri": "https://localhost:8080/",
          "height": 270
        },
        "id": "MBqfWEad0S18",
        "outputId": "e36deb68-0414-4f26-9a43-67143147ebc8"
      },
      "outputs": [
        {
          "output_type": "execute_result",
          "data": {
            "text/plain": [
              "   accountNumber  customerId  creditLimit  availableMoney  transactionAmount  \\\n",
              "0      737265056   737265056         5000          5000.0              98.55   \n",
              "1      737265056   737265056         5000          5000.0              74.51   \n",
              "2      737265056   737265056         5000          5000.0               7.47   \n",
              "3      737265056   737265056         5000          5000.0               7.47   \n",
              "4      830329091   830329091         5000          5000.0              71.18   \n",
              "\n",
              "   cardCVV  enteredCVV  cardLast4Digits  currentBalance  cardPresent  \\\n",
              "0      414         414             1803             0.0            0   \n",
              "1      486         486              767             0.0            1   \n",
              "2      486         486              767             0.0            0   \n",
              "3      486         486              767             0.0            0   \n",
              "4      885         885             3143             0.0            1   \n",
              "\n",
              "   expirationDateKeyInMatch  isFraud  \n",
              "0                         0    False  \n",
              "1                         0    False  \n",
              "2                         0    False  \n",
              "3                         0    False  \n",
              "4                         0    False  "
            ],
            "text/html": [
              "\n",
              "  <div id=\"df-8ebdf741-2b05-44eb-a3a7-7c998bc88119\">\n",
              "    <div class=\"colab-df-container\">\n",
              "      <div>\n",
              "<style scoped>\n",
              "    .dataframe tbody tr th:only-of-type {\n",
              "        vertical-align: middle;\n",
              "    }\n",
              "\n",
              "    .dataframe tbody tr th {\n",
              "        vertical-align: top;\n",
              "    }\n",
              "\n",
              "    .dataframe thead th {\n",
              "        text-align: right;\n",
              "    }\n",
              "</style>\n",
              "<table border=\"1\" class=\"dataframe\">\n",
              "  <thead>\n",
              "    <tr style=\"text-align: right;\">\n",
              "      <th></th>\n",
              "      <th>accountNumber</th>\n",
              "      <th>customerId</th>\n",
              "      <th>creditLimit</th>\n",
              "      <th>availableMoney</th>\n",
              "      <th>transactionAmount</th>\n",
              "      <th>cardCVV</th>\n",
              "      <th>enteredCVV</th>\n",
              "      <th>cardLast4Digits</th>\n",
              "      <th>currentBalance</th>\n",
              "      <th>cardPresent</th>\n",
              "      <th>expirationDateKeyInMatch</th>\n",
              "      <th>isFraud</th>\n",
              "    </tr>\n",
              "  </thead>\n",
              "  <tbody>\n",
              "    <tr>\n",
              "      <th>0</th>\n",
              "      <td>737265056</td>\n",
              "      <td>737265056</td>\n",
              "      <td>5000</td>\n",
              "      <td>5000.0</td>\n",
              "      <td>98.55</td>\n",
              "      <td>414</td>\n",
              "      <td>414</td>\n",
              "      <td>1803</td>\n",
              "      <td>0.0</td>\n",
              "      <td>0</td>\n",
              "      <td>0</td>\n",
              "      <td>False</td>\n",
              "    </tr>\n",
              "    <tr>\n",
              "      <th>1</th>\n",
              "      <td>737265056</td>\n",
              "      <td>737265056</td>\n",
              "      <td>5000</td>\n",
              "      <td>5000.0</td>\n",
              "      <td>74.51</td>\n",
              "      <td>486</td>\n",
              "      <td>486</td>\n",
              "      <td>767</td>\n",
              "      <td>0.0</td>\n",
              "      <td>1</td>\n",
              "      <td>0</td>\n",
              "      <td>False</td>\n",
              "    </tr>\n",
              "    <tr>\n",
              "      <th>2</th>\n",
              "      <td>737265056</td>\n",
              "      <td>737265056</td>\n",
              "      <td>5000</td>\n",
              "      <td>5000.0</td>\n",
              "      <td>7.47</td>\n",
              "      <td>486</td>\n",
              "      <td>486</td>\n",
              "      <td>767</td>\n",
              "      <td>0.0</td>\n",
              "      <td>0</td>\n",
              "      <td>0</td>\n",
              "      <td>False</td>\n",
              "    </tr>\n",
              "    <tr>\n",
              "      <th>3</th>\n",
              "      <td>737265056</td>\n",
              "      <td>737265056</td>\n",
              "      <td>5000</td>\n",
              "      <td>5000.0</td>\n",
              "      <td>7.47</td>\n",
              "      <td>486</td>\n",
              "      <td>486</td>\n",
              "      <td>767</td>\n",
              "      <td>0.0</td>\n",
              "      <td>0</td>\n",
              "      <td>0</td>\n",
              "      <td>False</td>\n",
              "    </tr>\n",
              "    <tr>\n",
              "      <th>4</th>\n",
              "      <td>830329091</td>\n",
              "      <td>830329091</td>\n",
              "      <td>5000</td>\n",
              "      <td>5000.0</td>\n",
              "      <td>71.18</td>\n",
              "      <td>885</td>\n",
              "      <td>885</td>\n",
              "      <td>3143</td>\n",
              "      <td>0.0</td>\n",
              "      <td>1</td>\n",
              "      <td>0</td>\n",
              "      <td>False</td>\n",
              "    </tr>\n",
              "  </tbody>\n",
              "</table>\n",
              "</div>\n",
              "      <button class=\"colab-df-convert\" onclick=\"convertToInteractive('df-8ebdf741-2b05-44eb-a3a7-7c998bc88119')\"\n",
              "              title=\"Convert this dataframe to an interactive table.\"\n",
              "              style=\"display:none;\">\n",
              "        \n",
              "  <svg xmlns=\"http://www.w3.org/2000/svg\" height=\"24px\"viewBox=\"0 0 24 24\"\n",
              "       width=\"24px\">\n",
              "    <path d=\"M0 0h24v24H0V0z\" fill=\"none\"/>\n",
              "    <path d=\"M18.56 5.44l.94 2.06.94-2.06 2.06-.94-2.06-.94-.94-2.06-.94 2.06-2.06.94zm-11 1L8.5 8.5l.94-2.06 2.06-.94-2.06-.94L8.5 2.5l-.94 2.06-2.06.94zm10 10l.94 2.06.94-2.06 2.06-.94-2.06-.94-.94-2.06-.94 2.06-2.06.94z\"/><path d=\"M17.41 7.96l-1.37-1.37c-.4-.4-.92-.59-1.43-.59-.52 0-1.04.2-1.43.59L10.3 9.45l-7.72 7.72c-.78.78-.78 2.05 0 2.83L4 21.41c.39.39.9.59 1.41.59.51 0 1.02-.2 1.41-.59l7.78-7.78 2.81-2.81c.8-.78.8-2.07 0-2.86zM5.41 20L4 18.59l7.72-7.72 1.47 1.35L5.41 20z\"/>\n",
              "  </svg>\n",
              "      </button>\n",
              "      \n",
              "  <style>\n",
              "    .colab-df-container {\n",
              "      display:flex;\n",
              "      flex-wrap:wrap;\n",
              "      gap: 12px;\n",
              "    }\n",
              "\n",
              "    .colab-df-convert {\n",
              "      background-color: #E8F0FE;\n",
              "      border: none;\n",
              "      border-radius: 50%;\n",
              "      cursor: pointer;\n",
              "      display: none;\n",
              "      fill: #1967D2;\n",
              "      height: 32px;\n",
              "      padding: 0 0 0 0;\n",
              "      width: 32px;\n",
              "    }\n",
              "\n",
              "    .colab-df-convert:hover {\n",
              "      background-color: #E2EBFA;\n",
              "      box-shadow: 0px 1px 2px rgba(60, 64, 67, 0.3), 0px 1px 3px 1px rgba(60, 64, 67, 0.15);\n",
              "      fill: #174EA6;\n",
              "    }\n",
              "\n",
              "    [theme=dark] .colab-df-convert {\n",
              "      background-color: #3B4455;\n",
              "      fill: #D2E3FC;\n",
              "    }\n",
              "\n",
              "    [theme=dark] .colab-df-convert:hover {\n",
              "      background-color: #434B5C;\n",
              "      box-shadow: 0px 1px 3px 1px rgba(0, 0, 0, 0.15);\n",
              "      filter: drop-shadow(0px 1px 2px rgba(0, 0, 0, 0.3));\n",
              "      fill: #FFFFFF;\n",
              "    }\n",
              "  </style>\n",
              "\n",
              "      <script>\n",
              "        const buttonEl =\n",
              "          document.querySelector('#df-8ebdf741-2b05-44eb-a3a7-7c998bc88119 button.colab-df-convert');\n",
              "        buttonEl.style.display =\n",
              "          google.colab.kernel.accessAllowed ? 'block' : 'none';\n",
              "\n",
              "        async function convertToInteractive(key) {\n",
              "          const element = document.querySelector('#df-8ebdf741-2b05-44eb-a3a7-7c998bc88119');\n",
              "          const dataTable =\n",
              "            await google.colab.kernel.invokeFunction('convertToInteractive',\n",
              "                                                     [key], {});\n",
              "          if (!dataTable) return;\n",
              "\n",
              "          const docLinkHtml = 'Like what you see? Visit the ' +\n",
              "            '<a target=\"_blank\" href=https://colab.research.google.com/notebooks/data_table.ipynb>data table notebook</a>'\n",
              "            + ' to learn more about interactive tables.';\n",
              "          element.innerHTML = '';\n",
              "          dataTable['output_type'] = 'display_data';\n",
              "          await google.colab.output.renderOutput(dataTable, element);\n",
              "          const docLink = document.createElement('div');\n",
              "          docLink.innerHTML = docLinkHtml;\n",
              "          element.appendChild(docLink);\n",
              "        }\n",
              "      </script>\n",
              "    </div>\n",
              "  </div>\n",
              "  "
            ]
          },
          "metadata": {},
          "execution_count": 8
        }
      ],
      "source": [
        "df[\"cardPresent\"] = df['cardPresent'] * 1\n",
        "df[\"expirationDateKeyInMatch\"] = df[\"expirationDateKeyInMatch\"] * 1\n",
        "df.head()"
      ]
    },
    {
      "cell_type": "markdown",
      "metadata": {
        "id": "q3e8r0i00SaT"
      },
      "source": [
        ""
      ]
    },
    {
      "cell_type": "markdown",
      "metadata": {
        "id": "7Eor9TPGmMx-"
      },
      "source": [
        "**Seperating the data for analysis**\n",
        "\n",
        "*   Checking the dataset for class values 0 and 1 which we will store in a seperate data frame.\n",
        "\n"
      ]
    },
    {
      "cell_type": "code",
      "execution_count": 9,
      "metadata": {
        "colab": {
          "base_uri": "https://localhost:8080/"
        },
        "id": "cz01YfpumRO8",
        "outputId": "ea5b6892-a665-4b80-cd47-bab5c1dc6328"
      },
      "outputs": [
        {
          "output_type": "stream",
          "name": "stdout",
          "text": [
            "Number of Records: 773946 and Number of Columns: 12 for valid\n",
            "Number of Records: 12417 and Number of Columns: 12 for fraud\n"
          ]
        }
      ],
      "source": [
        "valid = df[df.isFraud == 0]\n",
        "fraud = df[df.isFraud == 1]\n",
        "\n",
        "#checking the count of new variables\n",
        "print(\"Number of Records: {} and Number of Columns: {} for valid\".format(valid.shape[0],valid.shape[1]))\n",
        "print(\"Number of Records: {} and Number of Columns: {} for fraud\".format(fraud.shape[0],fraud.shape[1]))"
      ]
    },
    {
      "cell_type": "markdown",
      "metadata": {
        "id": "YPU5y_HYuyXt"
      },
      "source": [
        "**Building a sample dataset**\n",
        "\n",
        "* Using undersampling we will create a dataset containing equal number of valid and fraud transactions.\n",
        "\n",
        "* We have 773946 Valid transactions, taking 12417 random transactions from valid so we will have equal number of fraud and valid transactions.\n"
      ]
    },
    {
      "cell_type": "code",
      "execution_count": 10,
      "metadata": {
        "colab": {
          "base_uri": "https://localhost:8080/"
        },
        "id": "0ox49t8WqyMV",
        "outputId": "8b8fd1dd-be67-4e8b-e311-bc8592e2dcb8"
      },
      "outputs": [
        {
          "output_type": "stream",
          "name": "stdout",
          "text": [
            "        accountNumber  customerId  creditLimit  availableMoney  \\\n",
            "461645      255139921   255139921         5000         2315.89   \n",
            "197005      148553299   148553299          250           21.00   \n",
            "220784      245648346   245648346        10000         7865.84   \n",
            "649413      794398270   794398270         2500         1170.77   \n",
            "70856       126809470   126809470          250           95.70   \n",
            "570156      436162049   436162049         7500         1781.89   \n",
            "623435      414947246   414947246          250          250.00   \n",
            "779770      590331215   590331215        15000         2656.40   \n",
            "425184      543639500   543639500         7500         4057.04   \n",
            "688793      797789017   797789017         7500         3740.64   \n",
            "\n",
            "        transactionAmount  cardCVV  enteredCVV  cardLast4Digits  \\\n",
            "461645              38.60      389         389             5694   \n",
            "197005             150.78      771         771             7590   \n",
            "220784               4.07      804         804             6044   \n",
            "649413             190.53      161         161             3791   \n",
            "70856               99.39      375         375             9468   \n",
            "570156              31.98      208         208             4029   \n",
            "623435             477.24      784         784             8460   \n",
            "779770             213.87      184         184             9234   \n",
            "425184             150.07      239         239              614   \n",
            "688793              92.80      565         565             9232   \n",
            "\n",
            "        currentBalance  cardPresent  expirationDateKeyInMatch  isFraud  \n",
            "461645         2684.11            0                         0    False  \n",
            "197005          229.00            1                         0    False  \n",
            "220784         2134.16            0                         0    False  \n",
            "649413         1329.23            0                         0    False  \n",
            "70856           154.30            0                         0    False  \n",
            "570156         5718.11            0                         0    False  \n",
            "623435            0.00            0                         0    False  \n",
            "779770        12343.60            1                         0    False  \n",
            "425184         3442.96            1                         0    False  \n",
            "688793         3759.36            1                         0    False  \n",
            "        accountNumber  customerId  creditLimit  availableMoney  \\\n",
            "785305      841351704   841351704        50000        12580.54   \n",
            "785306      841351704   841351704        50000        12188.19   \n",
            "785409      841351704   841351704        50000        40226.12   \n",
            "785410      841351704   841351704        50000        40134.91   \n",
            "785482      841351704   841351704        50000        29198.83   \n",
            "785680      207667444   207667444         7500         5517.88   \n",
            "785713      207667444   207667444         7500          764.48   \n",
            "785888      428856030   428856030          250           61.94   \n",
            "786054      657364505   657364505        20000        20000.00   \n",
            "786112      899818521   899818521         2500          340.38   \n",
            "\n",
            "        transactionAmount  cardCVV  enteredCVV  cardLast4Digits  \\\n",
            "785305             392.35      651         651             7831   \n",
            "785306             392.35      651         651             7831   \n",
            "785409              91.21      651         651             7831   \n",
            "785410             246.65      651         651             7831   \n",
            "785482             384.64      651         651             7831   \n",
            "785680             385.41      235         235             9853   \n",
            "785713             393.43      235         235             9853   \n",
            "785888             370.43      990         990             7660   \n",
            "786054              28.09      138         138             6163   \n",
            "786112             119.51      551         551             5257   \n",
            "\n",
            "        currentBalance  cardPresent  expirationDateKeyInMatch  isFraud  \n",
            "785305        37419.46            0                         0     True  \n",
            "785306        37811.81            0                         0     True  \n",
            "785409         9773.88            0                         0     True  \n",
            "785410         9865.09            0                         0     True  \n",
            "785482        20801.17            0                         0     True  \n",
            "785680         1982.12            0                         0     True  \n",
            "785713         6735.52            1                         0     True  \n",
            "785888          188.06            0                         0     True  \n",
            "786054            0.00            0                         0     True  \n",
            "786112         2159.62            0                         0     True  \n"
          ]
        }
      ],
      "source": [
        "# n is number of transacions we want to pick\n",
        "valid_sample = valid.sample(n=12417)\n",
        "\n",
        "#concatinating two data frams (valid_sample and fruad) so we have equal number of records.\n",
        "# axis is 0 because we don't want to add data column wise, we want to add it row wise\n",
        "new_df = pd.concat([valid_sample,fraud],axis = 0)\n",
        "\n",
        "# we can confirm the data is random by looking at the index.\n",
        "print(new_df.head(10))\n",
        "\n",
        "print(new_df.tail(10))"
      ]
    },
    {
      "cell_type": "code",
      "execution_count": 11,
      "metadata": {
        "colab": {
          "base_uri": "https://localhost:8080/"
        },
        "id": "5zHLcR93wlt1",
        "outputId": "00b779c8-524d-4d76-b4d3-e64f23e47953"
      },
      "outputs": [
        {
          "output_type": "execute_result",
          "data": {
            "text/plain": [
              "False    12417\n",
              "True     12417\n",
              "Name: isFraud, dtype: int64"
            ]
          },
          "metadata": {},
          "execution_count": 11
        }
      ],
      "source": [
        "# now we have same number of dataframes in both\n",
        "new_df['isFraud'].value_counts()"
      ]
    },
    {
      "cell_type": "markdown",
      "metadata": {
        "id": "hEoluNLl9L8o"
      },
      "source": [
        "**Splitting data into features and targets**\n",
        "\n",
        "* We will create 2 variables x,y and we will drop the column isFraud.\n",
        "* Note : we will use axis = 1 here that is column\n",
        "* And we will store ifFraud to y variable\n"
      ]
    },
    {
      "cell_type": "code",
      "execution_count": 12,
      "metadata": {
        "colab": {
          "base_uri": "https://localhost:8080/"
        },
        "id": "bjlqTj__xkoH",
        "outputId": "8000ce96-0d77-472c-e2ee-e0dd0b431f9a"
      },
      "outputs": [
        {
          "output_type": "stream",
          "name": "stdout",
          "text": [
            "Values of X \n",
            "         accountNumber  customerId  creditLimit  availableMoney  \\\n",
            "461645      255139921   255139921         5000         2315.89   \n",
            "197005      148553299   148553299          250           21.00   \n",
            "220784      245648346   245648346        10000         7865.84   \n",
            "649413      794398270   794398270         2500         1170.77   \n",
            "70856       126809470   126809470          250           95.70   \n",
            "...               ...         ...          ...             ...   \n",
            "785680      207667444   207667444         7500         5517.88   \n",
            "785713      207667444   207667444         7500          764.48   \n",
            "785888      428856030   428856030          250           61.94   \n",
            "786054      657364505   657364505        20000        20000.00   \n",
            "786112      899818521   899818521         2500          340.38   \n",
            "\n",
            "        transactionAmount  cardCVV  enteredCVV  cardLast4Digits  \\\n",
            "461645              38.60      389         389             5694   \n",
            "197005             150.78      771         771             7590   \n",
            "220784               4.07      804         804             6044   \n",
            "649413             190.53      161         161             3791   \n",
            "70856               99.39      375         375             9468   \n",
            "...                   ...      ...         ...              ...   \n",
            "785680             385.41      235         235             9853   \n",
            "785713             393.43      235         235             9853   \n",
            "785888             370.43      990         990             7660   \n",
            "786054              28.09      138         138             6163   \n",
            "786112             119.51      551         551             5257   \n",
            "\n",
            "        currentBalance  cardPresent  expirationDateKeyInMatch  \n",
            "461645         2684.11            0                         0  \n",
            "197005          229.00            1                         0  \n",
            "220784         2134.16            0                         0  \n",
            "649413         1329.23            0                         0  \n",
            "70856           154.30            0                         0  \n",
            "...                ...          ...                       ...  \n",
            "785680         1982.12            0                         0  \n",
            "785713         6735.52            1                         0  \n",
            "785888          188.06            0                         0  \n",
            "786054            0.00            0                         0  \n",
            "786112         2159.62            0                         0  \n",
            "\n",
            "[24834 rows x 11 columns]\n",
            "Values of Y \n",
            " 461645    0\n",
            "197005    0\n",
            "220784    0\n",
            "649413    0\n",
            "70856     0\n",
            "         ..\n",
            "785680    1\n",
            "785713    1\n",
            "785888    1\n",
            "786054    1\n",
            "786112    1\n",
            "Name: isFraud, Length: 24834, dtype: int64\n"
          ]
        }
      ],
      "source": [
        "X = new_df.drop(columns='isFraud',axis = 1)\n",
        "Y = new_df['isFraud']\n",
        "\n",
        "#converting true false to 0 1\n",
        "Y = Y*1  \n",
        "#checking x and y values\n",
        "print(\"Values of X \\n\",X)\n",
        "print(\"Values of Y \\n\",Y)"
      ]
    },
    {
      "cell_type": "markdown",
      "metadata": {
        "id": "KGZT7J3I-jtp"
      },
      "source": [
        "**Splitting the data into training and tesing**\n",
        "\n",
        "* We will create 4 variables X_train, X_test, Y_train, Y_test where x has the features and y has the labels.\n",
        "\n",
        "* We will split data into x and y randomly for training and testing purpose.\n",
        "\n",
        "* We will use test size as 30% and use 70% of the data to train the model.\n",
        "\n",
        "* We will use stratify so that the number of 1(True) and 0(False) is evenly distributed."
      ]
    },
    {
      "cell_type": "markdown",
      "metadata": {
        "id": "KwZPZGpTB8pj"
      },
      "source": [
        "**Checking the datapoints in each variable**\n",
        "\n",
        "* X.shape Total number of data points\n",
        "* Y_train used for training \n",
        "* X_test used to test "
      ]
    },
    {
      "cell_type": "code",
      "execution_count": 13,
      "metadata": {
        "colab": {
          "base_uri": "https://localhost:8080/",
          "height": 270
        },
        "id": "UGL0mYkwHUIW",
        "outputId": "af9151cf-eb56-47d8-cf7e-23a24cfadfee"
      },
      "outputs": [
        {
          "output_type": "execute_result",
          "data": {
            "text/plain": [
              "        accountNumber  customerId  creditLimit  availableMoney  \\\n",
              "461645      255139921   255139921         5000         2315.89   \n",
              "197005      148553299   148553299          250           21.00   \n",
              "220784      245648346   245648346        10000         7865.84   \n",
              "649413      794398270   794398270         2500         1170.77   \n",
              "70856       126809470   126809470          250           95.70   \n",
              "\n",
              "        transactionAmount  cardCVV  enteredCVV  cardLast4Digits  \\\n",
              "461645              38.60      389         389             5694   \n",
              "197005             150.78      771         771             7590   \n",
              "220784               4.07      804         804             6044   \n",
              "649413             190.53      161         161             3791   \n",
              "70856               99.39      375         375             9468   \n",
              "\n",
              "        currentBalance  cardPresent  expirationDateKeyInMatch  \n",
              "461645         2684.11            0                         0  \n",
              "197005          229.00            1                         0  \n",
              "220784         2134.16            0                         0  \n",
              "649413         1329.23            0                         0  \n",
              "70856           154.30            0                         0  "
            ],
            "text/html": [
              "\n",
              "  <div id=\"df-568281a4-8da0-4ea1-b25b-8d8bc6e98b98\">\n",
              "    <div class=\"colab-df-container\">\n",
              "      <div>\n",
              "<style scoped>\n",
              "    .dataframe tbody tr th:only-of-type {\n",
              "        vertical-align: middle;\n",
              "    }\n",
              "\n",
              "    .dataframe tbody tr th {\n",
              "        vertical-align: top;\n",
              "    }\n",
              "\n",
              "    .dataframe thead th {\n",
              "        text-align: right;\n",
              "    }\n",
              "</style>\n",
              "<table border=\"1\" class=\"dataframe\">\n",
              "  <thead>\n",
              "    <tr style=\"text-align: right;\">\n",
              "      <th></th>\n",
              "      <th>accountNumber</th>\n",
              "      <th>customerId</th>\n",
              "      <th>creditLimit</th>\n",
              "      <th>availableMoney</th>\n",
              "      <th>transactionAmount</th>\n",
              "      <th>cardCVV</th>\n",
              "      <th>enteredCVV</th>\n",
              "      <th>cardLast4Digits</th>\n",
              "      <th>currentBalance</th>\n",
              "      <th>cardPresent</th>\n",
              "      <th>expirationDateKeyInMatch</th>\n",
              "    </tr>\n",
              "  </thead>\n",
              "  <tbody>\n",
              "    <tr>\n",
              "      <th>461645</th>\n",
              "      <td>255139921</td>\n",
              "      <td>255139921</td>\n",
              "      <td>5000</td>\n",
              "      <td>2315.89</td>\n",
              "      <td>38.60</td>\n",
              "      <td>389</td>\n",
              "      <td>389</td>\n",
              "      <td>5694</td>\n",
              "      <td>2684.11</td>\n",
              "      <td>0</td>\n",
              "      <td>0</td>\n",
              "    </tr>\n",
              "    <tr>\n",
              "      <th>197005</th>\n",
              "      <td>148553299</td>\n",
              "      <td>148553299</td>\n",
              "      <td>250</td>\n",
              "      <td>21.00</td>\n",
              "      <td>150.78</td>\n",
              "      <td>771</td>\n",
              "      <td>771</td>\n",
              "      <td>7590</td>\n",
              "      <td>229.00</td>\n",
              "      <td>1</td>\n",
              "      <td>0</td>\n",
              "    </tr>\n",
              "    <tr>\n",
              "      <th>220784</th>\n",
              "      <td>245648346</td>\n",
              "      <td>245648346</td>\n",
              "      <td>10000</td>\n",
              "      <td>7865.84</td>\n",
              "      <td>4.07</td>\n",
              "      <td>804</td>\n",
              "      <td>804</td>\n",
              "      <td>6044</td>\n",
              "      <td>2134.16</td>\n",
              "      <td>0</td>\n",
              "      <td>0</td>\n",
              "    </tr>\n",
              "    <tr>\n",
              "      <th>649413</th>\n",
              "      <td>794398270</td>\n",
              "      <td>794398270</td>\n",
              "      <td>2500</td>\n",
              "      <td>1170.77</td>\n",
              "      <td>190.53</td>\n",
              "      <td>161</td>\n",
              "      <td>161</td>\n",
              "      <td>3791</td>\n",
              "      <td>1329.23</td>\n",
              "      <td>0</td>\n",
              "      <td>0</td>\n",
              "    </tr>\n",
              "    <tr>\n",
              "      <th>70856</th>\n",
              "      <td>126809470</td>\n",
              "      <td>126809470</td>\n",
              "      <td>250</td>\n",
              "      <td>95.70</td>\n",
              "      <td>99.39</td>\n",
              "      <td>375</td>\n",
              "      <td>375</td>\n",
              "      <td>9468</td>\n",
              "      <td>154.30</td>\n",
              "      <td>0</td>\n",
              "      <td>0</td>\n",
              "    </tr>\n",
              "  </tbody>\n",
              "</table>\n",
              "</div>\n",
              "      <button class=\"colab-df-convert\" onclick=\"convertToInteractive('df-568281a4-8da0-4ea1-b25b-8d8bc6e98b98')\"\n",
              "              title=\"Convert this dataframe to an interactive table.\"\n",
              "              style=\"display:none;\">\n",
              "        \n",
              "  <svg xmlns=\"http://www.w3.org/2000/svg\" height=\"24px\"viewBox=\"0 0 24 24\"\n",
              "       width=\"24px\">\n",
              "    <path d=\"M0 0h24v24H0V0z\" fill=\"none\"/>\n",
              "    <path d=\"M18.56 5.44l.94 2.06.94-2.06 2.06-.94-2.06-.94-.94-2.06-.94 2.06-2.06.94zm-11 1L8.5 8.5l.94-2.06 2.06-.94-2.06-.94L8.5 2.5l-.94 2.06-2.06.94zm10 10l.94 2.06.94-2.06 2.06-.94-2.06-.94-.94-2.06-.94 2.06-2.06.94z\"/><path d=\"M17.41 7.96l-1.37-1.37c-.4-.4-.92-.59-1.43-.59-.52 0-1.04.2-1.43.59L10.3 9.45l-7.72 7.72c-.78.78-.78 2.05 0 2.83L4 21.41c.39.39.9.59 1.41.59.51 0 1.02-.2 1.41-.59l7.78-7.78 2.81-2.81c.8-.78.8-2.07 0-2.86zM5.41 20L4 18.59l7.72-7.72 1.47 1.35L5.41 20z\"/>\n",
              "  </svg>\n",
              "      </button>\n",
              "      \n",
              "  <style>\n",
              "    .colab-df-container {\n",
              "      display:flex;\n",
              "      flex-wrap:wrap;\n",
              "      gap: 12px;\n",
              "    }\n",
              "\n",
              "    .colab-df-convert {\n",
              "      background-color: #E8F0FE;\n",
              "      border: none;\n",
              "      border-radius: 50%;\n",
              "      cursor: pointer;\n",
              "      display: none;\n",
              "      fill: #1967D2;\n",
              "      height: 32px;\n",
              "      padding: 0 0 0 0;\n",
              "      width: 32px;\n",
              "    }\n",
              "\n",
              "    .colab-df-convert:hover {\n",
              "      background-color: #E2EBFA;\n",
              "      box-shadow: 0px 1px 2px rgba(60, 64, 67, 0.3), 0px 1px 3px 1px rgba(60, 64, 67, 0.15);\n",
              "      fill: #174EA6;\n",
              "    }\n",
              "\n",
              "    [theme=dark] .colab-df-convert {\n",
              "      background-color: #3B4455;\n",
              "      fill: #D2E3FC;\n",
              "    }\n",
              "\n",
              "    [theme=dark] .colab-df-convert:hover {\n",
              "      background-color: #434B5C;\n",
              "      box-shadow: 0px 1px 3px 1px rgba(0, 0, 0, 0.15);\n",
              "      filter: drop-shadow(0px 1px 2px rgba(0, 0, 0, 0.3));\n",
              "      fill: #FFFFFF;\n",
              "    }\n",
              "  </style>\n",
              "\n",
              "      <script>\n",
              "        const buttonEl =\n",
              "          document.querySelector('#df-568281a4-8da0-4ea1-b25b-8d8bc6e98b98 button.colab-df-convert');\n",
              "        buttonEl.style.display =\n",
              "          google.colab.kernel.accessAllowed ? 'block' : 'none';\n",
              "\n",
              "        async function convertToInteractive(key) {\n",
              "          const element = document.querySelector('#df-568281a4-8da0-4ea1-b25b-8d8bc6e98b98');\n",
              "          const dataTable =\n",
              "            await google.colab.kernel.invokeFunction('convertToInteractive',\n",
              "                                                     [key], {});\n",
              "          if (!dataTable) return;\n",
              "\n",
              "          const docLinkHtml = 'Like what you see? Visit the ' +\n",
              "            '<a target=\"_blank\" href=https://colab.research.google.com/notebooks/data_table.ipynb>data table notebook</a>'\n",
              "            + ' to learn more about interactive tables.';\n",
              "          element.innerHTML = '';\n",
              "          dataTable['output_type'] = 'display_data';\n",
              "          await google.colab.output.renderOutput(dataTable, element);\n",
              "          const docLink = document.createElement('div');\n",
              "          docLink.innerHTML = docLinkHtml;\n",
              "          element.appendChild(docLink);\n",
              "        }\n",
              "      </script>\n",
              "    </div>\n",
              "  </div>\n",
              "  "
            ]
          },
          "metadata": {},
          "execution_count": 13
        }
      ],
      "source": [
        "X.head()"
      ]
    },
    {
      "cell_type": "markdown",
      "metadata": {
        "id": "6lQ64TopWRRK"
      },
      "source": [
        "**Checking dataset before loading**"
      ]
    },
    {
      "cell_type": "code",
      "execution_count": 14,
      "metadata": {
        "colab": {
          "base_uri": "https://localhost:8080/"
        },
        "id": "3Q0xXOMyOhZH",
        "outputId": "68e84c70-64f0-408c-df00-9fbc7448b539"
      },
      "outputs": [
        {
          "output_type": "stream",
          "name": "stdout",
          "text": [
            "<class 'pandas.core.frame.DataFrame'>\n",
            "Int64Index: 24834 entries, 461645 to 786112\n",
            "Data columns (total 11 columns):\n",
            " #   Column                    Non-Null Count  Dtype  \n",
            "---  ------                    --------------  -----  \n",
            " 0   accountNumber             24834 non-null  int64  \n",
            " 1   customerId                24834 non-null  int64  \n",
            " 2   creditLimit               24834 non-null  int64  \n",
            " 3   availableMoney            24834 non-null  float64\n",
            " 4   transactionAmount         24834 non-null  float64\n",
            " 5   cardCVV                   24834 non-null  int64  \n",
            " 6   enteredCVV                24834 non-null  int64  \n",
            " 7   cardLast4Digits           24834 non-null  int64  \n",
            " 8   currentBalance            24834 non-null  float64\n",
            " 9   cardPresent               24834 non-null  int64  \n",
            " 10  expirationDateKeyInMatch  24834 non-null  int64  \n",
            "dtypes: float64(3), int64(8)\n",
            "memory usage: 2.3 MB\n"
          ]
        }
      ],
      "source": [
        "X.info()"
      ]
    },
    {
      "cell_type": "markdown",
      "metadata": {
        "id": "BO-RagLzDBao"
      },
      "source": [
        "**Training Model**\n",
        "\n",
        "* Loading instance of our model to model.\n",
        "* Training the logistic regression model with training data.\n",
        "* Using fit to fit data to our regression model."
      ]
    },
    {
      "cell_type": "code",
      "execution_count": 15,
      "metadata": {
        "id": "_MBpjI9cNLvz"
      },
      "outputs": [],
      "source": [
        "X_train, X_test, Y_train, Y_test = train_test_split(X, Y, test_size = 0.3, stratify= Y, random_state= 2  )"
      ]
    },
    {
      "cell_type": "code",
      "execution_count": 16,
      "metadata": {
        "colab": {
          "base_uri": "https://localhost:8080/",
          "height": 270
        },
        "id": "Ljyj3Mi9NO3R",
        "outputId": "38e9dc0f-97d8-4934-89e3-ae768661f016"
      },
      "outputs": [
        {
          "output_type": "execute_result",
          "data": {
            "text/plain": [
              "        accountNumber  customerId  creditLimit  availableMoney  \\\n",
              "653368      570884863   570884863         5000         1373.27   \n",
              "390597      340865874   340865874        15000        10517.89   \n",
              "73242       367824223   367824223         5000         4653.48   \n",
              "701186      304534021   304534021        15000        12579.68   \n",
              "430589      419709514   419709514         5000         1433.77   \n",
              "\n",
              "        transactionAmount  cardCVV  enteredCVV  cardLast4Digits  \\\n",
              "653368             336.47      289         289             2194   \n",
              "390597              53.70      729         729             5166   \n",
              "73242               29.06      459         459             4892   \n",
              "701186             255.61      560         560             3120   \n",
              "430589             259.80      917         917             2178   \n",
              "\n",
              "        currentBalance  cardPresent  expirationDateKeyInMatch  \n",
              "653368         3626.73            1                         0  \n",
              "390597         4482.11            0                         0  \n",
              "73242           346.52            1                         0  \n",
              "701186         2420.32            0                         0  \n",
              "430589         3566.23            0                         0  "
            ],
            "text/html": [
              "\n",
              "  <div id=\"df-13bdf907-d3c7-4dfc-848e-24f98da82dd8\">\n",
              "    <div class=\"colab-df-container\">\n",
              "      <div>\n",
              "<style scoped>\n",
              "    .dataframe tbody tr th:only-of-type {\n",
              "        vertical-align: middle;\n",
              "    }\n",
              "\n",
              "    .dataframe tbody tr th {\n",
              "        vertical-align: top;\n",
              "    }\n",
              "\n",
              "    .dataframe thead th {\n",
              "        text-align: right;\n",
              "    }\n",
              "</style>\n",
              "<table border=\"1\" class=\"dataframe\">\n",
              "  <thead>\n",
              "    <tr style=\"text-align: right;\">\n",
              "      <th></th>\n",
              "      <th>accountNumber</th>\n",
              "      <th>customerId</th>\n",
              "      <th>creditLimit</th>\n",
              "      <th>availableMoney</th>\n",
              "      <th>transactionAmount</th>\n",
              "      <th>cardCVV</th>\n",
              "      <th>enteredCVV</th>\n",
              "      <th>cardLast4Digits</th>\n",
              "      <th>currentBalance</th>\n",
              "      <th>cardPresent</th>\n",
              "      <th>expirationDateKeyInMatch</th>\n",
              "    </tr>\n",
              "  </thead>\n",
              "  <tbody>\n",
              "    <tr>\n",
              "      <th>653368</th>\n",
              "      <td>570884863</td>\n",
              "      <td>570884863</td>\n",
              "      <td>5000</td>\n",
              "      <td>1373.27</td>\n",
              "      <td>336.47</td>\n",
              "      <td>289</td>\n",
              "      <td>289</td>\n",
              "      <td>2194</td>\n",
              "      <td>3626.73</td>\n",
              "      <td>1</td>\n",
              "      <td>0</td>\n",
              "    </tr>\n",
              "    <tr>\n",
              "      <th>390597</th>\n",
              "      <td>340865874</td>\n",
              "      <td>340865874</td>\n",
              "      <td>15000</td>\n",
              "      <td>10517.89</td>\n",
              "      <td>53.70</td>\n",
              "      <td>729</td>\n",
              "      <td>729</td>\n",
              "      <td>5166</td>\n",
              "      <td>4482.11</td>\n",
              "      <td>0</td>\n",
              "      <td>0</td>\n",
              "    </tr>\n",
              "    <tr>\n",
              "      <th>73242</th>\n",
              "      <td>367824223</td>\n",
              "      <td>367824223</td>\n",
              "      <td>5000</td>\n",
              "      <td>4653.48</td>\n",
              "      <td>29.06</td>\n",
              "      <td>459</td>\n",
              "      <td>459</td>\n",
              "      <td>4892</td>\n",
              "      <td>346.52</td>\n",
              "      <td>1</td>\n",
              "      <td>0</td>\n",
              "    </tr>\n",
              "    <tr>\n",
              "      <th>701186</th>\n",
              "      <td>304534021</td>\n",
              "      <td>304534021</td>\n",
              "      <td>15000</td>\n",
              "      <td>12579.68</td>\n",
              "      <td>255.61</td>\n",
              "      <td>560</td>\n",
              "      <td>560</td>\n",
              "      <td>3120</td>\n",
              "      <td>2420.32</td>\n",
              "      <td>0</td>\n",
              "      <td>0</td>\n",
              "    </tr>\n",
              "    <tr>\n",
              "      <th>430589</th>\n",
              "      <td>419709514</td>\n",
              "      <td>419709514</td>\n",
              "      <td>5000</td>\n",
              "      <td>1433.77</td>\n",
              "      <td>259.80</td>\n",
              "      <td>917</td>\n",
              "      <td>917</td>\n",
              "      <td>2178</td>\n",
              "      <td>3566.23</td>\n",
              "      <td>0</td>\n",
              "      <td>0</td>\n",
              "    </tr>\n",
              "  </tbody>\n",
              "</table>\n",
              "</div>\n",
              "      <button class=\"colab-df-convert\" onclick=\"convertToInteractive('df-13bdf907-d3c7-4dfc-848e-24f98da82dd8')\"\n",
              "              title=\"Convert this dataframe to an interactive table.\"\n",
              "              style=\"display:none;\">\n",
              "        \n",
              "  <svg xmlns=\"http://www.w3.org/2000/svg\" height=\"24px\"viewBox=\"0 0 24 24\"\n",
              "       width=\"24px\">\n",
              "    <path d=\"M0 0h24v24H0V0z\" fill=\"none\"/>\n",
              "    <path d=\"M18.56 5.44l.94 2.06.94-2.06 2.06-.94-2.06-.94-.94-2.06-.94 2.06-2.06.94zm-11 1L8.5 8.5l.94-2.06 2.06-.94-2.06-.94L8.5 2.5l-.94 2.06-2.06.94zm10 10l.94 2.06.94-2.06 2.06-.94-2.06-.94-.94-2.06-.94 2.06-2.06.94z\"/><path d=\"M17.41 7.96l-1.37-1.37c-.4-.4-.92-.59-1.43-.59-.52 0-1.04.2-1.43.59L10.3 9.45l-7.72 7.72c-.78.78-.78 2.05 0 2.83L4 21.41c.39.39.9.59 1.41.59.51 0 1.02-.2 1.41-.59l7.78-7.78 2.81-2.81c.8-.78.8-2.07 0-2.86zM5.41 20L4 18.59l7.72-7.72 1.47 1.35L5.41 20z\"/>\n",
              "  </svg>\n",
              "      </button>\n",
              "      \n",
              "  <style>\n",
              "    .colab-df-container {\n",
              "      display:flex;\n",
              "      flex-wrap:wrap;\n",
              "      gap: 12px;\n",
              "    }\n",
              "\n",
              "    .colab-df-convert {\n",
              "      background-color: #E8F0FE;\n",
              "      border: none;\n",
              "      border-radius: 50%;\n",
              "      cursor: pointer;\n",
              "      display: none;\n",
              "      fill: #1967D2;\n",
              "      height: 32px;\n",
              "      padding: 0 0 0 0;\n",
              "      width: 32px;\n",
              "    }\n",
              "\n",
              "    .colab-df-convert:hover {\n",
              "      background-color: #E2EBFA;\n",
              "      box-shadow: 0px 1px 2px rgba(60, 64, 67, 0.3), 0px 1px 3px 1px rgba(60, 64, 67, 0.15);\n",
              "      fill: #174EA6;\n",
              "    }\n",
              "\n",
              "    [theme=dark] .colab-df-convert {\n",
              "      background-color: #3B4455;\n",
              "      fill: #D2E3FC;\n",
              "    }\n",
              "\n",
              "    [theme=dark] .colab-df-convert:hover {\n",
              "      background-color: #434B5C;\n",
              "      box-shadow: 0px 1px 3px 1px rgba(0, 0, 0, 0.15);\n",
              "      filter: drop-shadow(0px 1px 2px rgba(0, 0, 0, 0.3));\n",
              "      fill: #FFFFFF;\n",
              "    }\n",
              "  </style>\n",
              "\n",
              "      <script>\n",
              "        const buttonEl =\n",
              "          document.querySelector('#df-13bdf907-d3c7-4dfc-848e-24f98da82dd8 button.colab-df-convert');\n",
              "        buttonEl.style.display =\n",
              "          google.colab.kernel.accessAllowed ? 'block' : 'none';\n",
              "\n",
              "        async function convertToInteractive(key) {\n",
              "          const element = document.querySelector('#df-13bdf907-d3c7-4dfc-848e-24f98da82dd8');\n",
              "          const dataTable =\n",
              "            await google.colab.kernel.invokeFunction('convertToInteractive',\n",
              "                                                     [key], {});\n",
              "          if (!dataTable) return;\n",
              "\n",
              "          const docLinkHtml = 'Like what you see? Visit the ' +\n",
              "            '<a target=\"_blank\" href=https://colab.research.google.com/notebooks/data_table.ipynb>data table notebook</a>'\n",
              "            + ' to learn more about interactive tables.';\n",
              "          element.innerHTML = '';\n",
              "          dataTable['output_type'] = 'display_data';\n",
              "          await google.colab.output.renderOutput(dataTable, element);\n",
              "          const docLink = document.createElement('div');\n",
              "          docLink.innerHTML = docLinkHtml;\n",
              "          element.appendChild(docLink);\n",
              "        }\n",
              "      </script>\n",
              "    </div>\n",
              "  </div>\n",
              "  "
            ]
          },
          "metadata": {},
          "execution_count": 16
        }
      ],
      "source": [
        "X_train.head()"
      ]
    },
    {
      "cell_type": "markdown",
      "metadata": {
        "id": "7a5hIV2wZIcQ"
      },
      "source": [
        "### **After we have fitted and trained the data we can give the same input of variable to different algorithms.**"
      ]
    },
    {
      "cell_type": "markdown",
      "metadata": {
        "id": "6D62N94UWx-k"
      },
      "source": [
        "**Training LogisticRegression**"
      ]
    },
    {
      "cell_type": "code",
      "execution_count": 29,
      "metadata": {
        "colab": {
          "base_uri": "https://localhost:8080/"
        },
        "id": "ixa8izuVCTf5",
        "outputId": "4b23031d-66ce-4b6f-90f3-1a11fe901411"
      },
      "outputs": [
        {
          "output_type": "stream",
          "name": "stdout",
          "text": [
            "LR Training time : 0.09511728299999334\n"
          ]
        }
      ],
      "source": [
        "model = LogisticRegression()\n",
        "start = time.process_time()\n",
        "model.fit(X_train,Y_train)\n",
        "print(\"LR Training time :\",time.process_time() - start)"
      ]
    },
    {
      "cell_type": "markdown",
      "metadata": {
        "id": "VpC4gD2ea9dF"
      },
      "source": [
        "**Training Random Forest**"
      ]
    },
    {
      "cell_type": "code",
      "execution_count": 42,
      "metadata": {
        "id": "C_6DMfvGbBv1",
        "colab": {
          "base_uri": "https://localhost:8080/"
        },
        "outputId": "f0d15531-5d36-48d5-8de8-9c58d4843a1a"
      },
      "outputs": [
        {
          "output_type": "stream",
          "name": "stdout",
          "text": [
            "RF Training time : 10.32458462599999\n"
          ]
        }
      ],
      "source": [
        "rfm = RandomForestClassifier(n_estimators=80, oob_score=True,n_jobs=-1,random_state=101, max_features=None, min_samples_leaf= 30)\n",
        "start = time.process_time()\n",
        "rfm.fit(X_train,Y_train)\n",
        "y_pred = rfm.predict(X_test)\n",
        "print(\"RF Training time :\",time.process_time() - start)"
      ]
    },
    {
      "cell_type": "markdown",
      "metadata": {
        "id": "Wdmlt02ZNlCu"
      },
      "source": [
        "**Calculating Performance**"
      ]
    },
    {
      "cell_type": "code",
      "execution_count": 23,
      "metadata": {
        "id": "9X0Ca_zxI-ih"
      },
      "outputs": [],
      "source": [
        "#checking accuracy againt the test data\n",
        "X_test_prediction = model.predict(X_test)\n",
        "testing_data_accuracy = accuracy_score(X_test_prediction, Y_test)\n"
      ]
    },
    {
      "cell_type": "code",
      "execution_count": 24,
      "metadata": {
        "colab": {
          "base_uri": "https://localhost:8080/"
        },
        "id": "RB75fLHYPuVU",
        "outputId": "6c383aba-c365-4ef0-d98e-e900f8510b9e"
      },
      "outputs": [
        {
          "output_type": "stream",
          "name": "stdout",
          "text": [
            "Accuracy of Logistic Regression : 50.00671050865656 %\n"
          ]
        }
      ],
      "source": [
        "print(\"Accuracy of Logistic Regression :\",testing_data_accuracy*100,\"%\")"
      ]
    },
    {
      "cell_type": "code",
      "execution_count": 43,
      "metadata": {
        "id": "uvBpxcy0UMYZ"
      },
      "outputs": [],
      "source": [
        "testing_data_accuracy_random = accuracy_score(y_pred, Y_test)"
      ]
    },
    {
      "cell_type": "code",
      "execution_count": 44,
      "metadata": {
        "colab": {
          "base_uri": "https://localhost:8080/"
        },
        "id": "Yq9MGWCngB8-",
        "outputId": "20181238-23f2-4857-fc6f-f4f2133a37c9"
      },
      "outputs": [
        {
          "output_type": "stream",
          "name": "stdout",
          "text": [
            "Accuracy of Random Forest : 69.07797611058918 %\n"
          ]
        }
      ],
      "source": [
        "print(\"Accuracy of Random Forest :\",testing_data_accuracy_random*100,'%')"
      ]
    }
  ],
  "metadata": {
    "colab": {
      "collapsed_sections": [],
      "name": "ML_SKLearn.ipynb",
      "provenance": []
    },
    "kernelspec": {
      "display_name": "Python 3",
      "language": "python",
      "name": "python3"
    },
    "language_info": {
      "codemirror_mode": {
        "name": "ipython",
        "version": 3
      },
      "file_extension": ".py",
      "mimetype": "text/x-python",
      "name": "python",
      "nbconvert_exporter": "python",
      "pygments_lexer": "ipython3",
      "version": "3.7.3"
    }
  },
  "nbformat": 4,
  "nbformat_minor": 0
}