{
 "cells": [
  {
   "cell_type": "code",
   "execution_count": 2,
   "metadata": {},
   "outputs": [],
   "source": [
    "from pyspark.sql import SparkSession\n",
    "from pyspark.sql import functions as F\n",
    "from pyspark.ml.evaluation import MulticlassClassificationEvaluator\n",
    "from datetime import datetime\n",
    "\n",
    "# App named 'Cruise'\n",
    "spark = SparkSession.builder.appName('cruise').getOrCreate()"
   ]
  },
  {
   "cell_type": "code",
   "execution_count": 3,
   "metadata": {},
   "outputs": [],
   "source": [
    "df = spark.read.csv('transactions.csv',inferSchema=True,header=True)"
   ]
  },
  {
   "cell_type": "code",
   "execution_count": 4,
   "metadata": {},
   "outputs": [
    {
     "name": "stdout",
     "output_type": "stream",
     "text": [
      "root\n",
      " |-- _c0: integer (nullable = true)\n",
      " |-- accountNumber: integer (nullable = true)\n",
      " |-- customerId: integer (nullable = true)\n",
      " |-- creditLimit: integer (nullable = true)\n",
      " |-- availableMoney: double (nullable = true)\n",
      " |-- transactionDateTime: timestamp (nullable = true)\n",
      " |-- transactionAmount: double (nullable = true)\n",
      " |-- merchantName: string (nullable = true)\n",
      " |-- acqCountry: string (nullable = true)\n",
      " |-- merchantCountryCode: string (nullable = true)\n",
      " |-- posEntryMode: integer (nullable = true)\n",
      " |-- posConditionCode: integer (nullable = true)\n",
      " |-- merchantCategoryCode: string (nullable = true)\n",
      " |-- currentExpDate: string (nullable = true)\n",
      " |-- accountOpenDate: string (nullable = true)\n",
      " |-- dateOfLastAddressChange: string (nullable = true)\n",
      " |-- cardCVV: integer (nullable = true)\n",
      " |-- enteredCVV: integer (nullable = true)\n",
      " |-- cardLast4Digits: integer (nullable = true)\n",
      " |-- transactionType: string (nullable = true)\n",
      " |-- echoBuffer: string (nullable = true)\n",
      " |-- currentBalance: double (nullable = true)\n",
      " |-- merchantCity: string (nullable = true)\n",
      " |-- merchantState: string (nullable = true)\n",
      " |-- merchantZip: string (nullable = true)\n",
      " |-- cardPresent: boolean (nullable = true)\n",
      " |-- posOnPremises: string (nullable = true)\n",
      " |-- recurringAuthInd: string (nullable = true)\n",
      " |-- expirationDateKeyInMatch: boolean (nullable = true)\n",
      " |-- isFraud: boolean (nullable = true)\n",
      "\n"
     ]
    }
   ],
   "source": [
    "df.printSchema()"
   ]
  },
  {
   "cell_type": "code",
   "execution_count": 5,
   "metadata": {},
   "outputs": [
    {
     "name": "stdout",
     "output_type": "stream",
     "text": [
      "+---+-------------+----------+-----------+--------------+-------------------+-----------------+--------------------+----------+-------------------+------------+----------------+--------------------+--------------+---------------+-----------------------+-------+----------+---------------+--------------------+----------+--------------+------------+-------------+-----------+-----------+-------------+----------------+------------------------+-------+\n",
      "|_c0|accountNumber|customerId|creditLimit|availableMoney|transactionDateTime|transactionAmount|        merchantName|acqCountry|merchantCountryCode|posEntryMode|posConditionCode|merchantCategoryCode|currentExpDate|accountOpenDate|dateOfLastAddressChange|cardCVV|enteredCVV|cardLast4Digits|     transactionType|echoBuffer|currentBalance|merchantCity|merchantState|merchantZip|cardPresent|posOnPremises|recurringAuthInd|expirationDateKeyInMatch|isFraud|\n",
      "+---+-------------+----------+-----------+--------------+-------------------+-----------------+--------------------+----------+-------------------+------------+----------------+--------------------+--------------+---------------+-----------------------+-------+----------+---------------+--------------------+----------+--------------+------------+-------------+-----------+-----------+-------------+----------------+------------------------+-------+\n",
      "|  0|    737265056| 737265056|       5000|        5000.0|2016-08-13 14:27:32|            98.55|                Uber|        US|                 US|           2|               1|           rideshare|       06/2023|     2015-03-14|             2015-03-14|    414|       414|           1803|            PURCHASE|      null|           0.0|        null|         null|       null|      false|         null|            null|                   false|  false|\n",
      "|  1|    737265056| 737265056|       5000|        5000.0|2016-10-11 05:05:54|            74.51|         AMC #191138|        US|                 US|           9|               1|       entertainment|       02/2024|     2015-03-14|             2015-03-14|    486|       486|            767|            PURCHASE|      null|           0.0|        null|         null|       null|       true|         null|            null|                   false|  false|\n",
      "|  2|    737265056| 737265056|       5000|        5000.0|2016-11-08 09:18:39|             7.47|          Play Store|        US|                 US|           9|               1|          mobileapps|       08/2025|     2015-03-14|             2015-03-14|    486|       486|            767|            PURCHASE|      null|           0.0|        null|         null|       null|      false|         null|            null|                   false|  false|\n",
      "|  3|    737265056| 737265056|       5000|        5000.0|2016-12-10 02:14:50|             7.47|          Play Store|        US|                 US|           9|               1|          mobileapps|       08/2025|     2015-03-14|             2015-03-14|    486|       486|            767|            PURCHASE|      null|           0.0|        null|         null|       null|      false|         null|            null|                   false|  false|\n",
      "|  4|    830329091| 830329091|       5000|        5000.0|2016-03-24 21:04:46|            71.18| Tim Hortons #947751|        US|                 US|           2|               1|            fastfood|       10/2029|     2015-08-06|             2015-08-06|    885|       885|           3143|            PURCHASE|      null|           0.0|        null|         null|       null|       true|         null|            null|                   false|  false|\n",
      "|  5|    830329091| 830329091|       5000|        5000.0|2016-04-19 16:24:27|            30.76|    In-N-Out #422833|        US|                 US|           2|               1|            fastfood|       01/2020|     2015-08-06|             2015-08-06|    885|       885|           3143|            PURCHASE|      null|           0.0|        null|         null|       null|       true|         null|            null|                   false|  false|\n",
      "|  6|    830329091| 830329091|       5000|        5000.0|2016-05-21 14:50:35|            57.28|Krispy Kreme #685312|        US|                 US|           2|               1|            fastfood|       05/2020|     2015-08-06|             2015-08-06|    885|       885|           3143|            PURCHASE|      null|           0.0|        null|         null|       null|       true|         null|            null|                   false|  false|\n",
      "|  7|    830329091| 830329091|       5000|        5000.0|2016-06-03 00:31:21|             9.37| Shake Shack #968081|        US|                 US|           5|               1|            fastfood|       01/2021|     2015-08-06|             2015-08-06|    885|       885|           3143|            PURCHASE|      null|           0.0|        null|         null|       null|       true|         null|            null|                   false|  false|\n",
      "|  8|    830329091| 830329091|       5000|       4990.63|2016-06-10 01:21:46|           523.67| Burger King #486122|      null|                 US|           2|               1|            fastfood|       08/2032|     2015-08-06|             2015-08-06|    885|       885|           3143|            PURCHASE|      null|          9.37|        null|         null|       null|       true|         null|            null|                   false|  false|\n",
      "|  9|    830329091| 830329091|       5000|        5000.0|2016-07-11 10:47:16|           164.37|   Five Guys #510989|        US|                 US|           5|               8|            fastfood|       04/2020|     2015-08-06|             2015-08-06|    885|       885|           3143|            PURCHASE|      null|           0.0|        null|         null|       null|       true|         null|            null|                   false|  false|\n",
      "| 10|    830329091| 830329091|       5000|        5000.0|2016-09-07 20:22:47|           160.18|Auntie Anne's #74...|        US|                 US|           2|               8|            fastfood|       05/2023|     2015-08-06|             2015-08-06|    885|       885|           3143|            PURCHASE|      null|           0.0|        null|         null|       null|       true|         null|            null|                   false|  false|\n",
      "| 11|    830329091| 830329091|       5000|        5000.0|2016-12-07 16:34:04|            40.75|           GreenCook|        US|                 US|           9|               1|       food_delivery|       08/2024|     2015-08-06|             2015-08-06|    885|       885|           3143|            PURCHASE|      null|           0.0|        null|         null|       null|      false|         null|            null|                   false|  false|\n",
      "| 12|    830329091| 830329091|       5000|       4959.25|2016-12-14 10:00:35|            40.75|           GreenCook|        US|                 US|           9|               1|       food_delivery|       08/2024|     2015-08-06|             2015-08-06|    885|       885|           3143|            PURCHASE|      null|         40.75|        null|         null|       null|      false|         null|            null|                   false|  false|\n",
      "| 13|    830329091| 830329091|       5000|        4918.5|2016-12-20 18:38:23|            40.75|           GreenCook|        US|                 US|           9|               1|       food_delivery|       08/2024|     2015-08-06|             2015-08-06|    885|       885|           3143|            PURCHASE|      null|          81.5|        null|         null|       null|      false|         null|            null|                   false|  false|\n",
      "| 14|    830329091| 830329091|       5000|       4877.75|2016-12-28 06:43:01|            40.75|           GreenCook|        US|                 US|           9|               1|       food_delivery|       08/2024|     2015-08-06|             2015-08-06|    885|       885|           3143|            PURCHASE|      null|        122.25|        null|         null|       null|      false|         null|            null|                   false|  false|\n",
      "| 15|    574788567| 574788567|       2500|        2500.0|2016-01-02 11:19:46|            30.08|   Washington Repair|        US|                 US|           2|               1|                auto|       12/2031|     2015-10-13|             2015-10-13|    206|       206|           8522|            PURCHASE|      null|           0.0|        null|         null|       null|       true|         null|            null|                   false|  false|\n",
      "| 16|    574788567| 574788567|       2500|       2469.92|2016-01-16 01:01:27|            41.25|           Eazy Tire|        US|                 US|           9|               1|                auto|       09/2027|     2015-10-13|             2015-10-13|    206|       206|           8522|            PURCHASE|      null|         30.08|        null|         null|       null|       true|         null|            null|                   false|  false|\n",
      "| 17|    574788567| 574788567|       2500|       2428.67|2016-01-26 14:04:22|              0.0|Convenient Auto S...|        US|                 US|           9|               1|                auto|       08/2025|     2015-10-13|             2015-10-13|    206|       206|           8522|ADDRESS_VERIFICATION|      null|         71.33|        null|         null|       null|      false|         null|            null|                   false|  false|\n",
      "| 18|    574788567| 574788567|       2500|       2428.67|2016-01-29 07:17:39|           124.21|Convenient Auto S...|        US|                 US|           5|               1|                auto|       08/2032|     2015-10-13|             2015-10-13|    579|       579|           4219|            PURCHASE|      null|         71.33|        null|         null|       null|       true|         null|            null|                   false|  false|\n",
      "| 19|    574788567| 574788567|       2500|       2304.46|2016-01-29 07:33:15|           196.07|     Shell Auto Body|        US|                 US|           9|               1|                auto|       08/2022|     2015-10-13|             2015-10-13|    579|       539|           4219|            PURCHASE|      null|        195.54|        null|         null|       null|       true|         null|            null|                   false|  false|\n",
      "+---+-------------+----------+-----------+--------------+-------------------+-----------------+--------------------+----------+-------------------+------------+----------------+--------------------+--------------+---------------+-----------------------+-------+----------+---------------+--------------------+----------+--------------+------------+-------------+-----------+-----------+-------------+----------------+------------------------+-------+\n",
      "only showing top 20 rows\n",
      "\n"
     ]
    }
   ],
   "source": [
    "df.show()"
   ]
  },
  {
   "cell_type": "code",
   "execution_count": 6,
   "metadata": {},
   "outputs": [
    {
     "name": "stdout",
     "output_type": "stream",
     "text": [
      "+-------+------------------+-------------------+-------------------+------------------+-----------------+------------------+------------------+----------+-------------------+------------------+-----------------+--------------------+--------------+---------------+-----------------------+-----------------+------------------+-----------------+--------------------+----------+-----------------+------------+-------------+-----------+-------------+----------------+\n",
      "|summary|               _c0|      accountNumber|         customerId|       creditLimit|   availableMoney| transactionAmount|      merchantName|acqCountry|merchantCountryCode|      posEntryMode| posConditionCode|merchantCategoryCode|currentExpDate|accountOpenDate|dateOfLastAddressChange|          cardCVV|        enteredCVV|  cardLast4Digits|     transactionType|echoBuffer|   currentBalance|merchantCity|merchantState|merchantZip|posOnPremises|recurringAuthInd|\n",
      "+-------+------------------+-------------------+-------------------+------------------+-----------------+------------------+------------------+----------+-------------------+------------------+-----------------+--------------------+--------------+---------------+-----------------------+-----------------+------------------+-----------------+--------------------+----------+-----------------+------------+-------------+-----------+-------------+----------------+\n",
      "|  count|            786363|             786363|             786363|            786363|           786363|            786363|            786363|    781801|             785639|            782309|           785954|              786363|        786363|         786363|                 786363|           786363|            786363|           786363|              785665|         0|           786363|           0|            0|          0|            0|               0|\n",
      "|   mean|          393181.0|5.372325994617028E8|5.372325994617028E8|10759.464458526152|6250.725369288727|136.98579095150652|              null|      null|               null| 9.049943181019264|3.271980294012118|                null|          null|           null|                   null|544.4673376036258| 544.1838565649706|4757.417799413248|                null|      null|4508.739089237459|        null|         null|       null|         null|            null|\n",
      "| stddev|227003.58920290222|2.554210923073082E8|2.554210923073082E8|11636.174889962089|8880.783989147467|147.72556901952137|              null|      null|               null|16.774129517334256|9.809022992193011|                null|          null|           null|                   null|261.5242202514199|261.55125367571947|2996.583809916611|                null|      null|6457.442068131113|        null|         null|       null|         null|            null|\n",
      "|    min|                 0|          100088067|          100088067|               250|         -1005.63|               0.0|           1st BBQ|       CAN|                CAN|                 2|                1|             airline|       01/2020|     1989-08-22|             1989-08-22|              100|                 0|                0|ADDRESS_VERIFICATION|      null|              0.0|        null|         null|       null|         null|            null|\n",
      "|    max|            786362|          999389635|          999389635|             50000|          50000.0|           2011.54|williamssonoma.com|        US|                 US|                90|               99|       subscriptions|       12/2032|     2015-12-31|             2016-12-30|              998|               998|             9998|            REVERSAL|      null|         47498.81|        null|         null|       null|         null|            null|\n",
      "+-------+------------------+-------------------+-------------------+------------------+-----------------+------------------+------------------+----------+-------------------+------------------+-----------------+--------------------+--------------+---------------+-----------------------+-----------------+------------------+-----------------+--------------------+----------+-----------------+------------+-------------+-----------+-------------+----------------+\n",
      "\n"
     ]
    }
   ],
   "source": [
    "df.describe().show()"
   ]
  },
  {
   "cell_type": "code",
   "execution_count": 7,
   "metadata": {},
   "outputs": [],
   "source": [
    "from pyspark.ml.feature import StringIndexer\n",
    "\n",
    "df = df.withColumn(\"cardPresent\", df.cardPresent.cast('int'))\n",
    "df = df.withColumn(\"isFraud\", df.isFraud.cast('int'))\n",
    "df = df.withColumn(\"expirationDateKeyInMatch\", df.expirationDateKeyInMatch.cast('int'))"
   ]
  },
  {
   "cell_type": "code",
   "execution_count": 8,
   "metadata": {},
   "outputs": [],
   "source": [
    "from pyspark.ml.linalg import Vectors\n",
    "from pyspark.ml.feature import VectorAssembler\n",
    "assembler = VectorAssembler(\n",
    "inputCols=[\"accountNumber\", \"customerId\", \"creditLimit\", \"availableMoney\", \"transactionAmount\", \"cardCVV\", \"enteredCVV\", \"cardLast4Digits\", \"currentBalance\", \"cardPresent\", \"expirationDateKeyInMatch\"],\n",
    "outputCol=\"features\")\n",
    "output = assembler.transform(df)\n"
   ]
  },
  {
   "cell_type": "code",
   "execution_count": 9,
   "metadata": {},
   "outputs": [],
   "source": [
    "final_data = output.select(\"features\", \"isFraud\")\n",
    "valid_data = final_data.filter(df.isFraud == 0)\n",
    "valid_data = valid_data.orderBy(F.rand()).limit(12417)\n",
    "invalid_data = final_data.filter(df.isFraud == 1)\n",
    "final_data = valid_data.union(invalid_data)"
   ]
  },
  {
   "cell_type": "code",
   "execution_count": 10,
   "metadata": {},
   "outputs": [],
   "source": [
    "train_data,test_data = final_data.randomSplit([0.70,0.30])"
   ]
  },
  {
   "cell_type": "code",
   "execution_count": 11,
   "metadata": {},
   "outputs": [],
   "source": [
    "from pyspark.ml.regression import LinearRegression\n",
    "from pyspark.ml.classification import LogisticRegression\n",
    "from pyspark.ml.classification import RandomForestClassifier\n",
    "from pyspark.ml.clustering import KMeans"
   ]
  },
  {
   "cell_type": "code",
   "execution_count": 12,
   "metadata": {},
   "outputs": [],
   "source": [
    "kmeans = KMeans(k=2, seed=0)"
   ]
  },
  {
   "cell_type": "code",
   "execution_count": 13,
   "metadata": {},
   "outputs": [],
   "source": [
    "start_time = datetime.now()\n",
    "# lrModel = lr.fit(train_data) # for logistic regression\n",
    "# rfModel = rf.fit(train_data)\n",
    "kmeans = kmeans.fit(train_data)\n",
    "duration = (datetime.now() - start_time).total_seconds()"
   ]
  },
  {
   "cell_type": "code",
   "execution_count": 15,
   "metadata": {},
   "outputs": [
    {
     "name": "stdout",
     "output_type": "stream",
     "text": [
      "\n",
      "\n",
      "Silhouette with squared euclidean distance = 0.8225820335076228\n",
      "\n",
      "\n"
     ]
    }
   ],
   "source": [
    "from pyspark.ml.evaluation import ClusteringEvaluator\n",
    "# Evaluate clustering by computing Silhouette score\n",
    "predictions = kmeans.transform(test_data)\n",
    "evaluator = ClusteringEvaluator()\n",
    "silhouette = evaluator.evaluate(predictions)\n",
    "print(\"\\n\\nSilhouette with squared euclidean distance = \" + str(silhouette) + \"\\n\\n\")"
   ]
  },
  {
   "cell_type": "code",
   "execution_count": 16,
   "metadata": {},
   "outputs": [
    {
     "name": "stdout",
     "output_type": "stream",
     "text": [
      "+--------------------+-------+----------+\n",
      "|            features|isFraud|prediction|\n",
      "+--------------------+-------+----------+\n",
      "|[1.00737756E8,1.0...|      0|         0|\n",
      "|[1.00737756E8,1.0...|      0|         0|\n",
      "|[1.01339369E8,1.0...|      0|         0|\n",
      "|[1.01394465E8,1.0...|      0|         0|\n",
      "|[1.01738384E8,1.0...|      0|         0|\n",
      "|[1.01876201E8,1.0...|      0|         0|\n",
      "|[1.02204865E8,1.0...|      0|         0|\n",
      "|[1.02755773E8,1.0...|      0|         0|\n",
      "|[1.02755773E8,1.0...|      0|         0|\n",
      "|[1.0485242E8,1.04...|      0|         0|\n",
      "|[1.05418907E8,1.0...|      0|         0|\n",
      "|[1.05499749E8,1.0...|      0|         0|\n",
      "|[1.05730883E8,1.0...|      0|         0|\n",
      "|[1.06159813E8,1.0...|      0|         0|\n",
      "|[1.06159813E8,1.0...|      0|         0|\n",
      "|[1.06159813E8,1.0...|      0|         0|\n",
      "|[1.06159813E8,1.0...|      0|         0|\n",
      "|[1.06159813E8,1.0...|      0|         0|\n",
      "|[1.06159813E8,1.0...|      0|         0|\n",
      "|[1.06159813E8,1.0...|      0|         0|\n",
      "+--------------------+-------+----------+\n",
      "only showing top 20 rows\n",
      "\n"
     ]
    }
   ],
   "source": [
    "predictions.show()"
   ]
  },
  {
   "cell_type": "code",
   "execution_count": 18,
   "metadata": {},
   "outputs": [],
   "source": [
    "def precision_recall_f1(data):\n",
    "    tp = data[(data.prediction == 1) & (data.isFraud == 1)].count()\n",
    "    tn = data[(data.prediction == 0) & (data.isFraud == 0)].count()\n",
    "    fn = data[(data.prediction == 0) & (data.isFraud == 1)].count()\n",
    "    fp = data[(data.prediction == 1) & (data.isFraud == 0)].count()\n",
    "    try:\n",
    "        precision = float((tp)/(tp + fp))\n",
    "    except:\n",
    "        precision = 0\n",
    "    try:\n",
    "        recall = float((tp)/(tp + fn))\n",
    "    except:\n",
    "        recall = 0\n",
    "    try:\n",
    "        F1 = float(2 * precision * recall / (precision + recall))\n",
    "    except:\n",
    "        F1 = 0\n",
    "    return precision,recall,F1"
   ]
  },
  {
   "cell_type": "code",
   "execution_count": 20,
   "metadata": {},
   "outputs": [
    {
     "name": "stdout",
     "output_type": "stream",
     "text": [
      "The precision is : 0.5001460706982179\n",
      "The recall is : 0.4542318917484744\n",
      "The F1 is : 0.47608453837597325\n"
     ]
    }
   ],
   "source": [
    "precision,recall,F1 = precision_recall_f1(predictions)\n",
    "print(\"The precision is :\",precision)\n",
    "print(\"The recall is :\",recall)\n",
    "print('The F1 is :',F1)"
   ]
  },
  {
   "cell_type": "code",
   "execution_count": 21,
   "metadata": {},
   "outputs": [
    {
     "name": "stdout",
     "output_type": "stream",
     "text": [
      "total run time is:  16.102881\n"
     ]
    }
   ],
   "source": [
    "print('total run time is: ', duration)"
   ]
  }
 ],
 "metadata": {
  "kernelspec": {
   "display_name": "Python 3",
   "language": "python",
   "name": "python3"
  },
  "language_info": {
   "codemirror_mode": {
    "name": "ipython",
    "version": 3
   },
   "file_extension": ".py",
   "mimetype": "text/x-python",
   "name": "python",
   "nbconvert_exporter": "python",
   "pygments_lexer": "ipython3",
   "version": "3.7.2"
  }
 },
 "nbformat": 4,
 "nbformat_minor": 2
}
